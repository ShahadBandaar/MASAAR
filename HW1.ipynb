{
  "nbformat": 4,
  "nbformat_minor": 0,
  "metadata": {
    "colab": {
      "provenance": [],
      "authorship_tag": "ABX9TyMxnrSAR1xoS+TydxgWhO++",
      "include_colab_link": true
    },
    "kernelspec": {
      "name": "python3",
      "display_name": "Python 3"
    },
    "language_info": {
      "name": "python"
    }
  },
  "cells": [
    {
      "cell_type": "markdown",
      "metadata": {
        "id": "view-in-github",
        "colab_type": "text"
      },
      "source": [
        "<a href=\"https://colab.research.google.com/github/ShahadBandaar/MASAAR/blob/main/HW1.ipynb\" target=\"_parent\"><img src=\"https://colab.research.google.com/assets/colab-badge.svg\" alt=\"Open In Colab\"/></a>"
      ]
    },
    {
      "cell_type": "code",
      "execution_count": 3,
      "metadata": {
        "colab": {
          "base_uri": "https://localhost:8080/"
        },
        "id": "C0bTvx0HABMJ",
        "outputId": "b8be9f89-3139-40dd-dc65-3ce4aff5de81"
      },
      "outputs": [
        {
          "output_type": "stream",
          "name": "stdout",
          "text": [
            "My name Shahad\n",
            "Age is 22\n",
            "I will become a better data scientist\n"
          ]
        }
      ],
      "source": [
        "name= \"Shahad\"\n",
        "age= \"22\"\n",
        "print(\"My name \"+name)\n",
        "print(\"Age is \"+age)\n",
        "print(\"I will become a better data scientist\")\n",
        "#اطبع الجمل"
      ]
    }
  ]
}