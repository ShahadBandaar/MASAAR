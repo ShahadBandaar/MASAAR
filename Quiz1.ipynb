{
  "nbformat": 4,
  "nbformat_minor": 0,
  "metadata": {
    "colab": {
      "provenance": [],
      "authorship_tag": "ABX9TyPryZIgWQ1hO5zHwj1uySSB",
      "include_colab_link": true
    },
    "kernelspec": {
      "name": "python3",
      "display_name": "Python 3"
    },
    "language_info": {
      "name": "python"
    }
  },
  "cells": [
    {
      "cell_type": "markdown",
      "metadata": {
        "id": "view-in-github",
        "colab_type": "text"
      },
      "source": [
        "<a href=\"https://colab.research.google.com/github/ShahadBandaar/MASAAR/blob/main/Quiz1.ipynb\" target=\"_parent\"><img src=\"https://colab.research.google.com/assets/colab-badge.svg\" alt=\"Open In Colab\"/></a>"
      ]
    },
    {
      "cell_type": "code",
      "execution_count": 4,
      "metadata": {
        "colab": {
          "base_uri": "https://localhost:8080/"
        },
        "id": "oYbpT9OLFx52",
        "outputId": "cd84b8bc-ec1e-47c8-aecf-078aae2be4ff"
      },
      "outputs": [
        {
          "output_type": "stream",
          "name": "stdout",
          "text": [
            "Pair with sum 9 : (2, 7)\n"
          ]
        }
      ],
      "source": [
        "def find_pair_with_sum(nums, target):\n",
        "    seen = set()\n",
        "    for num in nums:\n",
        "        complement = target - num\n",
        "        if complement in seen:\n",
        "            return complement, num\n",
        "        seen.add(num)\n",
        "    return None\n",
        "\n",
        "# Exmaple usage:\n",
        "numbers = [2, 7, 11, 15]\n",
        "target_sum = 9\n",
        "result = find_pair_with_sum(numbers, target_sum)\n",
        "print(\"Pair with sum\", target_sum, \":\", result)"
      ]
    }
  ]
}